{
  "nbformat": 4,
  "nbformat_minor": 0,
  "metadata": {
    "colab": {
      "name": "TrainTest_Split.ipynb",
      "provenance": [],
      "collapsed_sections": [],
      "toc_visible": true,
      "mount_file_id": "1ak9Uxg02ucobnb75SJbHQOz8vjHodoW3",
      "authorship_tag": "ABX9TyOg2qe2vw0A96dXvH3fBKDb",
      "include_colab_link": true
    },
    "kernelspec": {
      "name": "python3",
      "display_name": "Python 3"
    }
  },
  "cells": [
    {
      "cell_type": "markdown",
      "metadata": {
        "id": "view-in-github",
        "colab_type": "text"
      },
      "source": [
        "<a href=\"https://colab.research.google.com/github/adrianrivadulla/FootNet_Development/blob/main/TrainTest_Split.ipynb\" target=\"_parent\"><img src=\"https://colab.research.google.com/assets/colab-badge.svg\" alt=\"Open In Colab\"/></a>"
      ]
    },
    {
      "cell_type": "markdown",
      "metadata": {
        "id": "fDF_W2VkkQpu"
      },
      "source": [
        "# TRAIN-TEST SPLIT\n",
        "\n",
        "This notebook splits each of the five datasets used for the Step Detection study in Training (70% of the particpants) and Testing (30%). The training sets are further split into 5 folds of approximately the same number of participants to perform cross validation. Finally, the five training folds of each dataset are concatenated with the ones of the other datasets resulting in five final folds, and the testing sets of each dataset are concatenated in a final testing set.\n",
        "\n",
        "The notebook retrieves the datasets from StepDetectionStudy > Data > OriginalDatasets and saves the training folds and testing set as dictionaries. The training folds are saved as a dictionary where each key (\"Fold_0\", ..., \"Fold_4\") contains the input features (\"X\"), labels (\"Y\"), vertical ground reaction forces (\"GRFv\") and original trial name (\"meta\"). The testing set is saved as a dictionary too with the keys \"X\", \"Y\", \"GRFv\", \"meta\". The output files (DataFolds.npy and TestingSet.npy) are saved in StepDetectionStudy > Data.\n",
        "\n",
        "**NOTE THAT if DataFolds.npy and TestingSet.npy already exist, this notebook will overwrite them.**"
      ]
    },
    {
      "cell_type": "markdown",
      "metadata": {
        "id": "fMUIIeyO2ZO4"
      },
      "source": [
        "![data_split.png](data:image/png;base64,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)"
      ]
    },
    {
      "cell_type": "markdown",
      "metadata": {
        "id": "TMfIij_gRB9w"
      },
      "source": [
        "# Presettings"
      ]
    },
    {
      "cell_type": "markdown",
      "metadata": {
        "id": "NpkeBvSpYrkU"
      },
      "source": [
        "## Mount drive"
      ]
    },
    {
      "cell_type": "code",
      "metadata": {
        "id": "qDgR6j9fYXdl",
        "colab": {
          "base_uri": "https://localhost:8080/"
        },
        "outputId": "504f820a-b609-4137-b41c-c85e89525482"
      },
      "source": [
        "from google.colab import drive\n",
        "drive.mount('/content/drive/')"
      ],
      "execution_count": null,
      "outputs": [
        {
          "output_type": "stream",
          "text": [
            "Drive already mounted at /content/drive/; to attempt to forcibly remount, call drive.mount(\"/content/drive/\", force_remount=True).\n"
          ],
          "name": "stdout"
        }
      ]
    },
    {
      "cell_type": "markdown",
      "metadata": {
        "id": "uDZN7eb2YYVx"
      },
      "source": [
        "## Make imports"
      ]
    },
    {
      "cell_type": "code",
      "metadata": {
        "id": "HLdoRMCPQ2ex"
      },
      "source": [
        "import os\n",
        "import math\n",
        "import random\n",
        "import numpy as np\n",
        "import pickle"
      ],
      "execution_count": null,
      "outputs": []
    },
    {
      "cell_type": "markdown",
      "metadata": {
        "id": "Kmb6x-j_1h83"
      },
      "source": [
        "## Directories"
      ]
    },
    {
      "cell_type": "code",
      "metadata": {
        "id": "O9qs4dlC1ja5"
      },
      "source": [
        "datadir = '/content/drive/My Drive/StepDetectionStudy/Data'\n",
        "origdatasetsdir = datadir + '/OriginalDatasets'"
      ],
      "execution_count": null,
      "outputs": []
    },
    {
      "cell_type": "markdown",
      "metadata": {
        "id": "50IQk8iVZQmF"
      },
      "source": [
        "# Helper functions (HF)"
      ]
    },
    {
      "cell_type": "markdown",
      "metadata": {
        "id": "2YeUOqAzZSqt"
      },
      "source": [
        "## SplitData\n",
        "\n",
        "Splits a dictionary (DataDic) in two (set 1 and set 2) assuming each key in DataDic contains a list. The keys of interest can be passed as input to the function, otherwise it performs the splitting to every key.\n",
        "\n",
        "There are two options to perform the splitting (SplitOption): using a pctege of the number of elements in the first layer of the list (SplitPctge, default is 30) or passing the indices of the elements in the list that should go to set 2 (Set2Idcs, default is None)."
      ]
    },
    {
      "cell_type": "code",
      "metadata": {
        "id": "49Q4r2JeZQJ2"
      },
      "source": [
        "def SplitData(DataDic, *Keys, **SplitOption):\n",
        "    \n",
        "# Parse optional inputs\n",
        "  SplitPctge = SplitOption.get('SplitPctge', 30)\n",
        "  Set2Idcs = SplitOption.get('Indices',None)\n",
        "\n",
        "# if a subset of DataDic keys are not specified, include all keys\n",
        "  if not Keys:\n",
        "    Keys = DataDic.keys()\n",
        "\n",
        "# Prealocate output dictionaries\n",
        "  set1 = {}\n",
        "  set2 = {}\n",
        "\n",
        "# Find indices for smaller set (set 2)\n",
        "  if Set2Idcs is None:\n",
        "    set2_n = math.floor(len(DataDic[list(Keys)[0]])*SplitPctge/100) # SplitPctge to number\n",
        "    Set2Idcs = random.sample(range(len(DataDic[list(Keys)[0]])),set2_n) # generate random idcs within the number of items in X\n",
        "\n",
        "# Prealocate vars\n",
        "  for key in Keys:\n",
        "    set1[key] = []\n",
        "    set2[key] = []\n",
        "    \n",
        "    for pti,pt in enumerate(DataDic[key]): # for each item in X\n",
        "    \n",
        "        if pti not in Set2Idcs: # if the index pti is not in set2, \n",
        " \n",
        "            set1[key].append(pt)\n",
        "\n",
        "        else: \n",
        "        # go to set2\n",
        "            set2[key].append(pt)\n",
        "            \n",
        "  return set1, set2"
      ],
      "execution_count": null,
      "outputs": []
    },
    {
      "cell_type": "markdown",
      "metadata": {
        "id": "z1bBTUMpmFuU"
      },
      "source": [
        "## KFoldCreator\n",
        "\n",
        "Splits a dictionary (DataDic) in k folds of approximately equal number of elements and returns it as another dictionary where the keys are each fold. The keys of interest can be passed as input to the function, otherwise it performs the splitting to every key.\n"
      ]
    },
    {
      "cell_type": "code",
      "metadata": {
        "id": "lDYbIDQRp4_o"
      },
      "source": [
        "def KFoldCreator(DataDic, k, *Keys):\n",
        "\n",
        "# Parse optional input\n",
        "\n",
        "  if not Keys: # get dictionary keys if none are specified\n",
        "    Keys = DataDic.keys()\n",
        "\n",
        "# Prealocate final output dictionary and create its keys\n",
        "  foldedset = {}\n",
        "  foldkeys = []\n",
        "  for i in range(k):\n",
        "    foldkeys.append(\"Fold_\" + str(i))\n",
        "\n",
        "# Create folds of indices for participants\n",
        "  idcs = np.linspace(0,len(DataDic[list(Keys)[0]])-1,len(DataDic[list(Keys)[0]]),dtype=int) # indices\n",
        "  random.shuffle(idcs) # shuffle them\n",
        "  \n",
        "  idxfolds = []\n",
        "  foldmembern = len(idcs) / float(k) # ideal partition\n",
        "  last = 0.0\n",
        "\n",
        "  while last < len(idcs): # while last is smaller than max number of participants\n",
        "    idxfolds.append(idcs[int(last):int(last + foldmembern)]) # append a fold of length close to ideal partition\n",
        "    last += foldmembern # add the number of participants that have been added\n",
        "\n",
        "# Allocate data within each fold\n",
        "  for foldi, foldkey in enumerate(foldkeys): # for each fold\n",
        "    datafold = {}\n",
        "    for key in Keys: # for each variable\n",
        "      datafold[key] = []\n",
        "      for idx in idxfolds[foldi]: # for each index in the fold\n",
        "        datafold[key].append(DataDic[key][idx]) # select the data corresponding to that index and append it\n",
        "\n",
        "    foldedset[foldkey] = datafold # place it in the fold dictionary\n",
        "\n",
        "  return foldedset\n"
      ],
      "execution_count": null,
      "outputs": []
    },
    {
      "cell_type": "markdown",
      "metadata": {
        "id": "fBKwTVmNF0AK"
      },
      "source": [
        "## FlattenDataset\n",
        "\n",
        "Unnests a nested list of two levels. In this case, each dataset is a list (DatasetList), where the first sublevel is each participant and the next sublevel contains the trials performed by a given participant.\n",
        "\n",
        "For instance, DatasetList[0][0] will access the all the strides of trial 1 for participant 1."
      ]
    },
    {
      "cell_type": "code",
      "metadata": {
        "id": "xnYTdK6JF0bS"
      },
      "source": [
        "def FlattenDataset(DatasetList):\n",
        "    FlatList = []\n",
        "    for participant in DatasetList:\n",
        "        for trial in participant:\n",
        "                FlatList = FlatList + trial\n",
        "                \n",
        "    return FlatList"
      ],
      "execution_count": null,
      "outputs": []
    },
    {
      "cell_type": "markdown",
      "metadata": {
        "id": "yUINGV1I3zYG"
      },
      "source": [
        "# Main"
      ]
    },
    {
      "cell_type": "markdown",
      "metadata": {
        "id": "70MxGZLs5mMT"
      },
      "source": [
        "### Load data"
      ]
    },
    {
      "cell_type": "code",
      "metadata": {
        "colab": {
          "base_uri": "https://localhost:8080/"
        },
        "id": "EGIB7JKN5nr3",
        "outputId": "02eef2d0-c781-4be2-eae6-cfe0560846a2"
      },
      "source": [
        "data = {}\n",
        "\n",
        "data['FootStrikes'] = np.load(origdatasetsdir + '/FootStrikes_dataset.npy', allow_pickle=True)\n",
        "data['Speed'] = np.load(origdatasetsdir + '/Speed_dataset.npy', allow_pickle=True)\n",
        "data['Footwear'] = np.load(origdatasetsdir + '/Footwear_dataset.npy', allow_pickle=True)\n",
        "data['Prolonged'] = np.load(origdatasetsdir + '/Prolonged_dataset.npy', allow_pickle=True)\n",
        "data['Inclines'] = np.load(origdatasetsdir + '/Inclines_dataset.npy', allow_pickle=True)\n",
        "\n",
        "# Print out the participants and strides within each dataset\n",
        "for seti in data.keys():\n",
        "  data[seti] = data[seti].item()\n",
        "  print(seti)\n",
        "  print('    Participants: ' + str(len(data[seti]['X'])))\n",
        "  print('    Strides: ' + str(len(FlattenDataset(data[seti]['X']))))\n",
        "  print(' ')\n"
      ],
      "execution_count": null,
      "outputs": [
        {
          "output_type": "stream",
          "text": [
            "FootStrikes\n",
            "Participants: 28\n",
            "Strides: 7222\n",
            " \n",
            "Speed\n",
            "Participants: 15\n",
            "Strides: 4661\n",
            " \n",
            "Footwear\n",
            "Participants: 11\n",
            "Strides: 3333\n",
            " \n",
            "Prolonged\n",
            "Participants: 16\n",
            "Strides: 10622\n",
            " \n",
            "Inclines\n",
            "Participants: 10\n",
            "Strides: 7866\n",
            " \n"
          ],
          "name": "stdout"
        }
      ]
    },
    {
      "cell_type": "markdown",
      "metadata": {
        "id": "sF5KuLin51fs"
      },
      "source": [
        "### Split traing and testing sets"
      ]
    },
    {
      "cell_type": "code",
      "metadata": {
        "colab": {
          "base_uri": "https://localhost:8080/"
        },
        "id": "QJSFiMnn59r6",
        "outputId": "90dee7be-6ddb-4353-e8dc-25138193620f"
      },
      "source": [
        "train = {}\n",
        "test = {}\n",
        "\n",
        "for seti in list(data.keys()):\n",
        "  train[seti], test[seti] = SplitData(data[seti], SplitPctge=30)\n",
        "  print(seti + ' participants split (Training/Testing): ' + str(len(train[seti]['X'])) +'/' + str(len(test[seti]['X'])))\n"
      ],
      "execution_count": null,
      "outputs": [
        {
          "output_type": "stream",
          "text": [
            "FootStrikes split (Training/Testing): 20/8\n",
            "Speed split (Training/Testing): 11/4\n",
            "Footwear split (Training/Testing): 8/3\n",
            "Prolonged split (Training/Testing): 12/4\n",
            "Inclines split (Training/Testing): 7/3\n"
          ],
          "name": "stdout"
        }
      ]
    },
    {
      "cell_type": "markdown",
      "metadata": {
        "id": "Sutj1Usv6Arc"
      },
      "source": [
        "### 5-fold the training data"
      ]
    },
    {
      "cell_type": "code",
      "metadata": {
        "id": "4icYu3Bw6QOH"
      },
      "source": [
        "folded = {}\n",
        "kfolds = 5\n",
        "\n",
        "for seti in list(train.keys()):\n",
        "  folded[seti] = KFoldCreator(train[seti], 5)\n"
      ],
      "execution_count": null,
      "outputs": []
    },
    {
      "cell_type": "markdown",
      "metadata": {
        "id": "W_tYuupl6Ssh"
      },
      "source": [
        "### Save data to files"
      ]
    },
    {
      "cell_type": "code",
      "metadata": {
        "id": "jeHM1JPyc8PS"
      },
      "source": [
        "trainingfolds = {}\n",
        "testfinal = {}\n",
        "\n",
        "# for each training fold\n",
        "for fold in list(folded['FootStrikes'].keys()):\n",
        "  trainingfolds[fold] = {}\n",
        "\n",
        "  # horizontally concatenate each fold by variable\n",
        "  for key in list(folded['FootStrikes'][fold].keys()):\n",
        "    trainingfolds[fold][key] = folded['FootStrikes'][fold][key] + \\\n",
        "                               folded['Speed'][fold][key] + \\\n",
        "                               folded['Footwear'][fold][key] + \\\n",
        "                               folded['Prolonged'][fold][key] + \\\n",
        "                               folded['Inclines'][fold][key]\n",
        "\n",
        "# concatenate datasets by variable in the testing set\n",
        "for key in list(test['FootStrikes'].keys()):\n",
        "    testfinal[key] = test['FootStrikes'][key] + \\\n",
        "                     test['Speed'][key] + \\\n",
        "                     test['Footwear'][key] + \\\n",
        "                     test['Prolonged'][key] + \\\n",
        "                     test['Inclines'][key]\n",
        "\n",
        "np.save(datadir + '/DataFolds.npy', trainingfolds)\n",
        "np.save(datadir + '/TestingSet.npy', testfinal)"
      ],
      "execution_count": null,
      "outputs": []
    },
    {
      "cell_type": "markdown",
      "metadata": {
        "id": "PAF6uMHr6YQm"
      },
      "source": [
        "## Print out fold counts"
      ]
    },
    {
      "cell_type": "code",
      "metadata": {
        "colab": {
          "base_uri": "https://localhost:8080/"
        },
        "id": "AJAQAUaQ6Y3l",
        "outputId": "50b0548e-56a8-4af3-b794-60c2acd6f92b"
      },
      "source": [
        "ptn = []\n",
        "stridesn = []\n",
        "for fold in list(trainingfolds.keys()):\n",
        "  ptn.append(len(trainingfolds[fold]['X']))\n",
        "  stridesn.append(len(FlattenDataset(trainingfolds[fold]['X'])))\n",
        "\n",
        "print('TRAINING DATA')\n",
        "print('------------------')\n",
        "print('Participants in each fold')\n",
        "print(ptn)\n",
        "print(' ')\n",
        "print('Strides in each fold')\n",
        "print(stridesn)\n",
        "print('Mean: ' + str(np.mean(stridesn)))\n",
        "print('Std: ' + str(np.std(stridesn)))\n",
        "\n",
        "print(' ')\n",
        "print('TESTING DATA')\n",
        "print('------------------')\n",
        "print('Participants')\n",
        "print(len(testfinal['X']))\n",
        "print(' ')\n",
        "print('Strides')\n",
        "print(len(FlattenDataset(testfinal['X'])))\n"
      ],
      "execution_count": null,
      "outputs": [
        {
          "output_type": "stream",
          "text": [
            "TRAINING DATA\n",
            "------------------\n",
            "Participants in each fold\n",
            "[10, 11, 12, 11, 14]\n",
            " \n",
            "Strides in each fold\n",
            "[3743, 4608, 5486, 4347, 6119]\n",
            "Mean: 4860.6\n",
            "Std: 842.7712856997443\n",
            " \n",
            "TESTING DATA\n",
            "------------------\n",
            "Participants\n",
            "22\n",
            " \n",
            "Strides\n",
            "9401\n"
          ],
          "name": "stdout"
        }
      ]
    }
  ]
}