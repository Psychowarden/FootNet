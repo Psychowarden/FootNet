{
  "nbformat": 4,
  "nbformat_minor": 0,
  "metadata": {
    "colab": {
      "name": "StepDetection_FinalTest.ipynb",
      "provenance": [],
      "collapsed_sections": [],
      "toc_visible": true,
      "mount_file_id": "1Bt08QVVv5iiU57HQa4XDn1tzKTgOnUKD",
      "authorship_tag": "ABX9TyMNNqEL/ZgmW8TA4GCJbWct",
      "include_colab_link": true
    },
    "kernelspec": {
      "name": "python3",
      "display_name": "Python 3"
    },
    "accelerator": "GPU"
  },
  "cells": [
    {
      "cell_type": "markdown",
      "metadata": {
        "id": "view-in-github",
        "colab_type": "text"
      },
      "source": [
        "<a href=\"https://colab.research.google.com/github/adrianrivadulla/FootNet_Development/blob/main/StepDetection_FinalTest.ipynb\" target=\"_parent\"><img src=\"https://colab.research.google.com/assets/colab-badge.svg\" alt=\"Open In Colab\"/></a>"
      ]
    },
    {
      "cell_type": "markdown",
      "metadata": {
        "id": "BpBr8kkpcAga"
      },
      "source": [
        "# FINAL TEST\r\n",
        "\r\n",
        "The best model resulting from 5-fold cross-validation is updated and tested on the testing set.\r\n",
        "\r\n",
        "The notebook requires DataFolds.npy and TestFolds.npy to exist in StepDetectionStudy > Data directory. DataFolds.npy and TestingSet.npy were generated using the notebook called TrainTest_Split.npy.\r\n",
        "\r\n",
        "DataFolds contains five folds of participants that were used for 5-fold crossvalidation and TestingSet contains the participants that have been put aside for final testing and that have not taken part in any training step. This notebook concatenates the five folds in DataFolds and uses these data to update the best candidate model attained during 5-fold crossvalidation. Model parameters are updated for 5 epochs with no validation set. The updated model is then tested on the TestingSet.\r\n",
        "\r\n",
        "**Make sure you're running on GPU before starting the notebook** for faster performance.\r\n",
        "\r\n"
      ]
    },
    {
      "cell_type": "markdown",
      "metadata": {
        "id": "TMfIij_gRB9w"
      },
      "source": [
        "# Presettings"
      ]
    },
    {
      "cell_type": "markdown",
      "metadata": {
        "id": "NpkeBvSpYrkU"
      },
      "source": [
        "## Mount drive"
      ]
    },
    {
      "cell_type": "code",
      "metadata": {
        "id": "qDgR6j9fYXdl",
        "colab": {
          "base_uri": "https://localhost:8080/"
        },
        "outputId": "53e4edd7-ecab-467e-8724-e3fedc8b3433"
      },
      "source": [
        "from google.colab import drive\n",
        "drive.mount('/content/drive/')"
      ],
      "execution_count": 1,
      "outputs": [
        {
          "output_type": "stream",
          "text": [
            "Drive already mounted at /content/drive/; to attempt to forcibly remount, call drive.mount(\"/content/drive/\", force_remount=True).\n"
          ],
          "name": "stdout"
        }
      ]
    },
    {
      "cell_type": "markdown",
      "metadata": {
        "id": "uDZN7eb2YYVx"
      },
      "source": [
        "## Make imports"
      ]
    },
    {
      "cell_type": "code",
      "metadata": {
        "id": "HLdoRMCPQ2ex"
      },
      "source": [
        "import os\n",
        "from datetime import date\n",
        "import math\n",
        "import random\n",
        "import time\n",
        "import platform\n",
        "import numpy as np\n",
        "from itertools import chain\n",
        "import matplotlib.pyplot as plt\n",
        "import tensorflow as tf\n",
        "from tensorflow import keras\n",
        "from tensorflow.keras import layers\n",
        "from tensorflow.keras.layers import TimeDistributed, Dense\n",
        "from tensorflow.keras.preprocessing.sequence import pad_sequences\n",
        "from tensorflow.keras.utils import to_categorical\n",
        "from tensorflow.keras.callbacks import EarlyStopping\n",
        "import pickle\n",
        "import scipy.io"
      ],
      "execution_count": 2,
      "outputs": []
    },
    {
      "cell_type": "markdown",
      "metadata": {
        "id": "Kmb6x-j_1h83"
      },
      "source": [
        "## Directories"
      ]
    },
    {
      "cell_type": "code",
      "metadata": {
        "id": "O9qs4dlC1ja5"
      },
      "source": [
        "datadir = '/content/drive/My Drive/StepDetectionStudy/Data'\n",
        "testdir = '/content/drive/My Drive/StepDetectionStudy/FinalTest'\n",
        "finalmodeldir = '/content/drive/My Drive/StepDetectionStudy/FinalModel'"
      ],
      "execution_count": 3,
      "outputs": []
    },
    {
      "cell_type": "markdown",
      "metadata": {
        "id": "50IQk8iVZQmF"
      },
      "source": [
        "# Helper functions"
      ]
    },
    {
      "cell_type": "markdown",
      "metadata": {
        "id": "KfGFKpx6ayVn"
      },
      "source": [
        "## FlattenDataset\r\n",
        "\r\n",
        "Flattens an structed list containing participants in the first sublevel (DatasetList[0]) and trials in the following sublevel (DatasetList[0][0])"
      ]
    },
    {
      "cell_type": "code",
      "metadata": {
        "id": "-Gr4VkkUaxzi"
      },
      "source": [
        "def FlattenDataset(DatasetList):\n",
        "    FlatList = []\n",
        "    for participant in DatasetList:\n",
        "        for trial in participant:\n",
        "                FlatList = FlatList + trial\n",
        "                \n",
        "    return FlatList"
      ],
      "execution_count": 4,
      "outputs": []
    },
    {
      "cell_type": "markdown",
      "metadata": {
        "id": "2aoY0OapBZlP"
      },
      "source": [
        "## StandardiseData\r\n",
        "\r\n",
        "Transforms X_train and X_val to z-scores using the mean and standard deviation of each variable in the training set X_train."
      ]
    },
    {
      "cell_type": "code",
      "metadata": {
        "id": "XN9XZ6syBcU2"
      },
      "source": [
        "def StandardiseData(X_train, X_val):\n",
        "    \n",
        "    # calculate standardising parameters\n",
        "    zero_mean = np.mean(np.hstack(X_train), axis=(0,1)) # mean of each variable\n",
        "    one_std = np.std(np.hstack(X_train), axis=(0,1)) # std of each variable\n",
        "\n",
        "    # standardise data\n",
        "    for i in range(len(X_train)):\n",
        "        for idim in range(len(zero_mean)):\n",
        "            X_train[i][:,:,idim] = (X_train[i][:,:,idim] - zero_mean[idim])/ one_std[idim]\n",
        "\n",
        "    for i in range(len(X_val)):\n",
        "        for idim in range(len(zero_mean)):\n",
        "            X_val[i][:,:,idim] = (X_val[i][:,:,idim] - zero_mean[idim])/ one_std[idim]\n",
        "        \n",
        "    return X_train, X_val, zero_mean, one_std"
      ],
      "execution_count": 5,
      "outputs": []
    },
    {
      "cell_type": "markdown",
      "metadata": {
        "id": "kcuQsdCQae86"
      },
      "source": [
        "## ListToPaddedArray\r\n",
        "\r\n",
        "Zero-pads MatList to arrays of maxlen. The padding is added at the beginning."
      ]
    },
    {
      "cell_type": "code",
      "metadata": {
        "id": "EfSyzLQVafcA"
      },
      "source": [
        "def ListToPaddedArray(MatList, maxlen):\n",
        "    \n",
        "    padded =np.empty((0,maxlen,MatList[0].shape[2]))\n",
        "    \n",
        "    for i in MatList:\n",
        "        ipad = np.pad(i,((0,0),(maxlen-i.shape[1], 0),(0,0)),'constant')\n",
        "        padded = np.vstack((padded, ipad))\n",
        "            \n",
        "    return padded"
      ],
      "execution_count": 6,
      "outputs": []
    },
    {
      "cell_type": "markdown",
      "metadata": {
        "id": "Q7A7fOhibJqr"
      },
      "source": [
        "## GetStepEvents\r\n",
        "\r\n",
        "Finds the first (foot-strike, fs) and last (toe-off, to) value in Labels that are > 0.51 i.e. contact. Labels is a list containing n strides."
      ]
    },
    {
      "cell_type": "code",
      "metadata": {
        "id": "37siN5zUbKG7"
      },
      "source": [
        "def GetStepEvents(Labels):\n",
        "    \n",
        "    fs = []\n",
        "    to = []    \n",
        "    \n",
        "    for stride in Labels:\n",
        "      if len(stride.shape) == 2:\n",
        "        on = np.where(stride[:,0] >= 0.50)[0][0]\n",
        "        off = np.where(stride[on:,0] < 0.50)[0][0] + on\n",
        "        \n",
        "      elif len(stride.shape) == 3:\n",
        "        on = np.where(stride[0,:,0] >= 0.50)[0][0]\n",
        "        off = np.where(stride[0,on:,0] < 0.50)[0][0] + on\n",
        "        \n",
        "      fs.append(on)\n",
        "      to.append(off)\n",
        "\n",
        "    return fs, to"
      ],
      "execution_count": 7,
      "outputs": []
    },
    {
      "cell_type": "markdown",
      "metadata": {
        "id": "jwbVxy6ZbXKl"
      },
      "source": [
        "## PerformanceAssessment\r\n",
        "\r\n",
        "Compares the original labels (Y_labels) against the predicted ones (Y_hat). Foot-strike and toe-off are detected in both real and predicted labels using the GetStepEvents funciton and then the difference (in ms) is calculated. Error metrics including precision, RMSE, parametric Bland-Altman 95% limits of agreement, 99 percentile and max error are calculated. Bland-Altman plots are saved to savingdir including the fold code valfold in the name so they can be identified."
      ]
    },
    {
      "cell_type": "code",
      "metadata": {
        "id": "O-Z9rqUBbX2F"
      },
      "source": [
        "def PerformanceAssessment(Y_labels, Y_hat, metadata, savingdir, valfold):\n",
        "\n",
        "  # get gold standard contact events\n",
        "  fs, to = GetStepEvents(Y_labels)    \n",
        "\n",
        "  # get predicted contact events\n",
        "  fs_hat,to_hat = GetStepEvents(Y_hat)\n",
        "\n",
        "  # everything to milliseconds\n",
        "  lastBra = [i for i, trialname in enumerate(metadata) if 'RBDS' in trialname][-1]\n",
        "\n",
        "  fs_ms = np.zeros_like(fs, dtype=float)\n",
        "  to_ms = np.zeros_like(to, dtype=float)\n",
        "\n",
        "  fs_hat_ms = np.zeros_like(fs_hat, dtype=float)\n",
        "  to_hat_ms = np.zeros_like(to_hat, dtype=float)\n",
        "\n",
        "  for i in range(len(fs)):\n",
        "    if i <= lastBra:\n",
        "      fs_ms[i] = fs[i]*1/150\n",
        "      to_ms[i] = to[i]*1/150\n",
        "      fs_hat_ms[i] = fs_hat[i]*1/150\n",
        "      to_hat_ms[i] = to_hat[i]*1/150\n",
        "\n",
        "    else:\n",
        "      fs_ms[i] = fs[i]*1/200\n",
        "      to_ms[i] = to[i]*1/200\n",
        "      fs_hat_ms[i] = fs_hat[i]*1/200\n",
        "      to_hat_ms[i] = to_hat[i]*1/200\n",
        "\n",
        "  # calculate errors\n",
        "  ct_ms = to_ms - fs_ms\n",
        "  ct_hat_ms = to_hat_ms - fs_hat_ms\n",
        "\n",
        "  FSError = fs_ms - fs_hat_ms\n",
        "  TOError = to_ms - to_hat_ms\n",
        "  CTError = ct_ms - ct_hat_ms\n",
        "\n",
        "  ## Error metrics\n",
        "\n",
        "  # Precision\n",
        "  fs_prec = np.count_nonzero(FSError == 0)/len(FSError)*100\n",
        "  to_prec = np.count_nonzero(TOError == 0)/len(TOError)*100\n",
        "  ct_prec = np.count_nonzero(CTError == 0)/len(CTError)*100\n",
        "\n",
        "  # RMSE\n",
        "  rmse_fs = np.sqrt(np.mean(FSError**2))\n",
        "  rmse_to = np.sqrt(np.mean(TOError**2))\n",
        "  rmse_ct = np.sqrt(np.mean(CTError**2))\n",
        "\n",
        "  # Bland-Altman plots\n",
        "  plt.figure()\n",
        "  fs95top, fs95bottom = BlandAltmanPlot(fs_ms, fs_hat_ms, to_ms - fs_ms, valfold,'Contact_time (ms)','Error (ms)')\n",
        "  plt.savefig(savingdir + '/FSBAplot_' + valfold + '.jpg')\n",
        "\n",
        "  plt.figure()\n",
        "  to95top, to95bottom = BlandAltmanPlot(to_ms, to_hat_ms, to_ms - fs_ms, valfold,'Contact_time (ms)','Error (ms)')\n",
        "  plt.savefig(savingdir + '/TOBAplot_' + valfold + '.jpg')\n",
        "\n",
        "  plt.figure()\n",
        "  ct95top, ct95bottom = BlandAltmanPlot(ct_ms, ct_hat_ms, to_ms - fs_ms, valfold,'Contact_time (ms)','Error (ms)')\n",
        "  plt.savefig(savingdir + '/CTBAplot_' + valfold + '.jpg')\n",
        "\n",
        "  # 99 pctile\n",
        "  fs_99 = np.percentile(np.abs(FSError),99)\n",
        "  to_99 = np.percentile(np.abs(TOError),99)\n",
        "  ct_99 = np.percentile(np.abs(CTError),99)\n",
        "\n",
        "  # max error\n",
        "  max_fs_error = max(np.abs(FSError))\n",
        "  max_to_error = max(np.abs(TOError))\n",
        "  max_ct_error = max(np.abs(CTError))\n",
        "\n",
        "  # write it all out as a dictionary\n",
        "  summary = {\"precision\" : [fs_prec, to_prec, ct_prec],\n",
        "             \"rmse\" : [rmse_fs, rmse_to, rmse_ct],\n",
        "             \"95la\" : [[fs95top, fs95bottom], [to95top, to95bottom], [ct95top, ct95bottom]],\n",
        "             \"pctile_99\" : [fs_99, to_99, ct_99],\n",
        "             \"max_error\" : [max_fs_error, max_to_error, max_ct_error]}\n",
        "\n",
        "  return summary, fs_ms, fs_hat_ms, to_ms, to_hat_ms"
      ],
      "execution_count": 8,
      "outputs": []
    },
    {
      "cell_type": "markdown",
      "metadata": {
        "id": "N6fW1RpAbrH1"
      },
      "source": [
        "## BlandAltmanPlot\r\n",
        "\r\n",
        "\r\n",
        "Displays a Bland-Altman plot where the disagreement between two instruments (y-axis) is plotted against a variable t (time in this case for visualisation purposes, x-axis). The 95% limits of agreeement are calculated parametrically i.e. mean disagreement +- 1.96*sd disagreement) and returned as input. The figure includes the 0 line disagreement line, mean disasgreement line, upper and lower 95% limits of agreement and regression line between disagreement and variable t."
      ]
    },
    {
      "cell_type": "code",
      "metadata": {
        "id": "24_EdGSibt-e"
      },
      "source": [
        "def BlandAltmanPlot(data1, data2, t, PlotTitle, XLabel, YLabel, *args, **kwargs):\n",
        "\n",
        "    data1     = np.asarray(data1)               # instrument 1\n",
        "    data2     = np.asarray(data2)               # instrument 2\n",
        "    mean      = np.mean([data1, data2], axis=0) # mean of instrument 1 and 2\n",
        "    diff      = data1 - data2                   # Difference between data1 and data2\n",
        "    bias      = np.mean(diff)                   # Mean of the difference\n",
        "    sd        = np.std(diff, axis=0)            # Standard deviation of the difference\n",
        "    toplim    = bias + 1.96*sd\n",
        "    bottomlim = bias - 1.96*sd\n",
        "    line      = np.polyfit(t, diff, 1)\n",
        "\n",
        "    plt.scatter(t, diff, *args, **kwargs)\n",
        "    plt.axhline(bias, color='red', linestyle='-')\n",
        "    plt.axhline(0, color='black', linestyle='-')\n",
        "    plt.axhline(toplim, color='black', linestyle='-')\n",
        "    plt.axhline(bottomlim, color='black', linestyle='-')\n",
        "\n",
        "    axes = plt.gca()\n",
        "    x = np.array(axes.get_xlim())\n",
        "    y = line[0] * x + line[1]\n",
        "    plt.plot(x, y, '--')\n",
        "    plt.axhspan(bias - 1.96*sd, bias + 1.96*sd , alpha=0.5, color='grey')\n",
        "\n",
        "    plt.title(PlotTitle)\n",
        "    plt.xlabel(XLabel)\n",
        "    plt.ylabel(YLabel)\n",
        " \n",
        "    return toplim, bottomlim"
      ],
      "execution_count": 9,
      "outputs": []
    },
    {
      "cell_type": "markdown",
      "metadata": {
        "id": "dwyqpepFdDl_"
      },
      "source": [
        "# Main "
      ]
    },
    {
      "cell_type": "markdown",
      "metadata": {
        "id": "Ia2zPl6jHVU7"
      },
      "source": [
        "## Load data"
      ]
    },
    {
      "cell_type": "code",
      "metadata": {
        "id": "fve8djkJHQJc"
      },
      "source": [
        "trainfolds = np.load(datadir + '/DataFolds.npy', allow_pickle=True)\n",
        "trainfolds = trainfolds.item()\n",
        "trainset = {}\n",
        "for key in list(trainfolds['Fold_0'].keys()):\n",
        "  trainset[key] = []\n",
        "  for fold in list(trainfolds.keys()):\n",
        "    trainset[key] = trainset[key] + trainfolds[fold][key] \n",
        "\n",
        "testset = np.load(datadir + '/TestingSet.npy', allow_pickle=True)\n",
        "testset = testset.item()"
      ],
      "execution_count": 10,
      "outputs": []
    },
    {
      "cell_type": "markdown",
      "metadata": {
        "id": "qqm-Q4KqADDJ"
      },
      "source": [
        "## Preprocessing"
      ]
    },
    {
      "cell_type": "code",
      "metadata": {
        "id": "RpmKda69AArw"
      },
      "source": [
        "# Flatten data\n",
        "for key in list(trainset.keys()):\n",
        "  trainset[key] = FlattenDataset(trainset[key])\n",
        "  testset[key] = FlattenDataset(testset[key])\n",
        "\n",
        "## Standardise data\n",
        "trainset['X'], testset['X'], zero_mean, one_std = StandardiseData(trainset['X'], testset['X'])\n",
        "\n",
        "## Padd data\n",
        "X_train = ListToPaddedArray(trainset['X'], 200)\n",
        "Y_train = ListToPaddedArray(trainset['Y'], 200)\n",
        "X_test = ListToPaddedArray(testset['X'], 200)\n",
        "Y_test = ListToPaddedArray(testset['Y'], 200)"
      ],
      "execution_count": 11,
      "outputs": []
    },
    {
      "cell_type": "markdown",
      "metadata": {
        "id": "SijdtbQeAYPS"
      },
      "source": [
        "## Model updating"
      ]
    },
    {
      "cell_type": "code",
      "metadata": {
        "id": "7u7ocDyQFxMd",
        "colab": {
          "base_uri": "https://localhost:8080/",
          "height": 435
        },
        "outputId": "45bc0653-a278-44fc-d54b-50622386120e"
      },
      "source": [
        "# Load model\n",
        "FootNet = keras.models.load_model(testdir + '/FootNet_best_candidate')\n",
        "\n",
        "# Update model weigths for 5 epochs\n",
        "history = FootNet.fit(X_train, Y_train, batch_size=200, epochs=5)\n",
        "plt.figure()\n",
        "plt.plot(history.history['binary_accuracy'])\n",
        "\n",
        "# add standardisation parameters to model\n",
        "FootNet._zero_mean = tf.Variable(zero_mean, trainable=False)\n",
        "FootNet._one_std = tf.Variable(one_std, trainable=False)\n",
        "\n",
        "# save model\n",
        "FootNet.save(finalmodeldir +'/FootNetModel')"
      ],
      "execution_count": 12,
      "outputs": [
        {
          "output_type": "stream",
          "text": [
            "Epoch 1/5\n",
            "125/125 [==============================] - 214s 2s/step - loss: 0.0167 - binary_accuracy: 0.9897\n",
            "Epoch 2/5\n",
            "125/125 [==============================] - 200s 2s/step - loss: 0.0127 - binary_accuracy: 0.9918\n",
            "Epoch 3/5\n",
            "125/125 [==============================] - 198s 2s/step - loss: 0.0121 - binary_accuracy: 0.9922\n",
            "Epoch 4/5\n",
            "125/125 [==============================] - 198s 2s/step - loss: 0.0118 - binary_accuracy: 0.9924\n",
            "Epoch 5/5\n",
            "125/125 [==============================] - 197s 2s/step - loss: 0.0115 - binary_accuracy: 0.9926\n"
          ],
          "name": "stdout"
        },
        {
          "output_type": "display_data",
          "data": {
            "image/png": "[encoded data removed]",
            "text/plain": [
              "<Figure size 432x288 with 1 Axes>"
            ]
          },
          "metadata": {
            "tags": [],
            "needs_background": "light"
          }
        }
      ]
    },
    {
      "cell_type": "markdown",
      "metadata": {
        "id": "fnWJA3mkb2uk"
      },
      "source": [
        "## Model assessment\n"
      ]
    },
    {
      "cell_type": "code",
      "metadata": {
        "id": "OneA5MInb8kB",
        "colab": {
          "base_uri": "https://localhost:8080/",
          "height": 976
        },
        "outputId": "3e4a46e2-4bbc-45b5-97f2-3453535f6b1c"
      },
      "source": [
        "# Predict contact phases\n",
        "y_hat = FootNet.predict(X_test)\n",
        "\n",
        "# get rid of noise in predictions due to padding\n",
        "for i, labelvector in enumerate(y_hat):\n",
        "  padend = np.where(labelvector[:,0] < 0.1)[0][0]\n",
        "  labelvector[:padend,0] = 0\n",
        "  y_hat[i] = labelvector\n",
        "\n",
        "# Calculate test accuracy\n",
        "test_acc = tf.keras.metrics.BinaryAccuracy()\n",
        "test_acc.update_state(Y_test, y_hat)\n",
        "test_accuracy = test_acc.result().numpy()\n",
        "print('Test accuracy: ' + str(test_accuracy))\n",
        "\n",
        "# Performance assessment\n",
        "summary = PerformanceAssessment(Y_test, y_hat, testset['meta'], testdir, 'Final_test') \n",
        "print(summary)"
      ],
      "execution_count": 13,
      "outputs": [
        {
          "output_type": "stream",
          "text": [
            "Test accuracy: 0.9922515\n",
            "({'precision': [43.54912764003673, 34.57300275482093, 23.174931129476583], 'rmse': [0.005399613498772758, 0.005934826973637864, 0.008576978473728496], '95la': [[0.010067868486672812, -0.011016751253737399], [0.012454034101401033, -0.010489693727969752], [0.01802328968148337, -0.015110066540987507]], 'pctile_99': [0.015000000000000013, 0.014999999999999902, 0.020000000000000018], 'max_error': [0.020000000000000018, 0.02499999999999991, 0.033333333333333326]}, array([0.90666667, 0.9       , 0.9       , ..., 0.635     , 0.635     ,\n",
            "       0.635     ]), array([0.9       , 0.89333333, 0.89333333, ..., 0.63      , 0.63      ,\n",
            "       0.63      ]), array([1.15333333, 1.14666667, 1.14666667, ..., 0.82      , 0.82      ,\n",
            "       0.82      ]), array([1.16      , 1.16      , 1.16666667, ..., 0.82      , 0.82      ,\n",
            "       0.82      ]))\n"
          ],
          "name": "stdout"
        },
        {
          "output_type": "display_data",
          "data": {
            "image/png": "[encoded data removed]",
            "text/plain": [
              "<Figure size 432x288 with 1 Axes>"
            ]
          },
          "metadata": {
            "tags": [],
            "needs_background": "light"
          }
        },
        {
          "output_type": "display_data",
          "data": {
            "image/png": "[encoded data removed]",
            "text/plain": [
              "<Figure size 432x288 with 1 Axes>"
            ]
          },
          "metadata": {
            "tags": [],
            "needs_background": "light"
          }
        },
        {
          "output_type": "display_data",
          "data": {
            "image/png": "[encoded data removed]",
            "text/plain": [
              "<Figure size 432x288 with 1 Axes>"
            ]
          },
          "metadata": {
            "tags": [],
            "needs_background": "light"
          }
        }
      ]
    },
    {
      "cell_type": "markdown",
      "metadata": {
        "id": "SyMcegEFcoE8"
      },
      "source": [
        "## Save performance metrics"
      ]
    },
    {
      "cell_type": "code",
      "metadata": {
        "id": "-d93hFo2cooM"
      },
      "source": [
        "#save history and performance summary in results dic\n",
        "results = {}\n",
        "results['summary'] = summary\n",
        "results['history'] = history.history\n",
        "with open(testdir +'/summary_'+ 'Final_test', 'wb') as f:\n",
        " pickle.dump(results, f)\n",
        "\n",
        "# save for final analysis in Matlab (paper)\n",
        "scipy.io.savemat(testdir + '/y_and_yhat.mat', dict(y=Y_test, yhat=y_hat, meta = testset['meta']))\n"
      ],
      "execution_count": 14,
      "outputs": []
    }
  ]
}